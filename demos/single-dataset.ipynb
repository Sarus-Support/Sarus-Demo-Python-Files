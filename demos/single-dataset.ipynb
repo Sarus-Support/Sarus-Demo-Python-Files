{
 "cells": [
  {
   "cell_type": "markdown",
   "metadata": {
    "id": "LAyM38lGUpkL"
   },
   "source": [
    "# Notebook Description"
   ]
  },
  {
   "cell_type": "markdown",
   "metadata": {},
   "source": [
    "This Jupyter notebook demonstrates how to download, display one time series using the Monitor+ python library.  The report downloads one market data time series as a monthly average. The data is requested as business days only (5 day week), filled forward using interpolation.  The time series data is then added to a Pandas data frame and displayed. \n",
    "\n",
    "The datasource, symbol, frequency, moving average values and all paramerters can be changed in the 'Global Variables'section below.  \n",
    "\n",
    "Favorite datasets can be viewed using the <em><span style=\"color: Black\">'List my Favorite Datasets'</span></em> notebook or subscribers can click on the <a href=\"https://www.sarus.com/profilemain?tab=favorites\">Sarus web portal</a> link to view and manage their favorite datasets ( after authentication).\n",
    "\n"
   ]
  },
  {
   "cell_type": "markdown",
   "metadata": {
    "id": "sObP-2EybVCt"
   },
   "source": [
    "<b>Disclaimer.</b><br>\n",
    "We offer these reports for informational purposes only and are provided ‘as is’ without warranty of any kind, either express or implied, including, but not limited to, the implied warranties of fitness for a purpose, or the warranty of non-infringement.  Please refer to our <a href=\"https://www.sarus.com/terms-and-conditions\">Terms and Conditions</a> for more information. Any links on this site are provided as a convenience and for informational purposes only; they do not constitute an endorsement or an approval by the us of any of the products, services or opinions of the corporation or organization or individual. We bear no responsibility for the accuracy, legality or content of the external site or for that of subsequent links. Contact any external sites for answers to questions regarding its content.  The market data used in the reports below may be generated sample data and as such not representative on any real or published values. Do not use any of the report values for any purpose other than to demonstrate the functionality of the  Monitor+ service.\n",
    "\n",
    "<b>Notice:</b> The API key  used in this report is for demonstration purposes only and may return <em>simulated market data</em> (not actual market data data) or return a limited selection or range of market data.<br>\n",
    "Do not use any data returned with this demonstration API key except to test the functionality of the Monitor+ API in a testing environment. Subscribers should replace the default API key (in the 'Global Variables' section) with their own API key in order to get valid market data.\n",
    "\n",
    "If you have any questions about this report, please go to the Sarus web site www.sarus.com  and use the <a href=\"https://www.sarus.com/contact-us\"> 'Contact'</a> menu to get in  touch or email us at support@sarus.com\n"
   ]
  },
  {
   "cell_type": "markdown",
   "metadata": {
    "id": "LAyM38lGUpkL"
   },
   "source": [
    "## Imports"
   ]
  },
  {
   "cell_type": "code",
   "execution_count": 1,
   "metadata": {
    "id": "aw52ArsLUbri"
   },
   "outputs": [],
   "source": [
    "#  IData is the Monitor+ API class\n",
    "from monitorplus import IData \n",
    "import pandas as pd\n"
   ]
  },
  {
   "cell_type": "markdown",
   "metadata": {
    "id": "sObP-2EybVCt"
   },
   "source": [
    "## Global Variables"
   ]
  },
  {
   "cell_type": "code",
   "execution_count": 5,
   "metadata": {
    "colab": {
     "base_uri": "https://localhost:8080/"
    },
    "id": "N19Yl28DT3ky",
    "outputId": "4a9a43d8-92db-4697-c323-53ea2c700ee7",
    "scrolled": true
   },
   "outputs": [
    {
     "name": "stdout",
     "output_type": "stream",
     "text": [
      "\u001b[32m The Monthly API command was parameters are set. \n",
      "\n"
     ]
    }
   ],
   "source": [
    "# Customers API Key needed to request for data from the Monitor+ API\n",
    "# To get updated values, change this API key to your own key.\n",
    "# The key below may retuen test data only and not actual market values.  \n",
    "API_KEY = \"PD3MV-7KO96-HEZSL-4U8JX\"\n",
    "\n",
    "# define colours used (see  https://i.stack.imgur.com/9UVnC.png)\n",
    "BOLD = '\\033[01m'\n",
    "RESET = '\\033[0m'\n",
    "BLACK_FG = '\\033[30m'\n",
    "GREEN_FG = '\\033[32m'\n",
    "WHITE_FG = '\\033[37m'\n",
    "\n",
    "RED_BG = '\\033[101m'\n",
    "#  hmmm  '\\033[47m' and '\\033[107m' not working\n",
    "WHITE_BG = ''\n",
    "\n",
    "# ANSI code Combinations used in labels\n",
    "WARNING_LABEL =  WHITE_FG + RED_BG\n",
    "SUCCESS_LABEL=  GREEN_FG + WHITE_BG\n",
    "NORMAL_LABEL =BLACK_FG + WHITE_BG\n",
    "\n",
    "\n",
    "\n",
    "#  number of rows to list in the  table output\n",
    "Data_Rows=30\n",
    "\n",
    "#  The full API documentation for the API call used is at:   \n",
    "#       https://dev2.idatamedia.org/api-docs#getdatasetvaluesrc\n",
    "\n",
    "# Sample Dataset to use in the Notebook\n",
    "API_Datasource1 = \"ECBFX\"\n",
    "API_DSSymbol1 = \"EURJPY\"\n",
    "# the Name below  will be filled from the API if the request is successful\n",
    "API_DSName1 = \"\"\n",
    "\n",
    "\n",
    "# The earliest date to request from the API\n",
    "API_StartDate = \"2023-01-01\"\n",
    "\n",
    "\n",
    "# Weekends can be added or removed by setting the value to \"7\"  or \"5\"\n",
    "# \"5\" means only weekdays (no weekends) are returned. \n",
    "# Refer to th API documentation for many more options\n",
    "API_WeekType = \"5\"\n",
    "\n",
    "# The 2 moving  average values to  use\n",
    "MovAvg1=7\n",
    "MovAvg2=14\n",
    "\n",
    "\n",
    "#  Fill the daily data before (prefill happens before calculating monthly averages)\n",
    "API_Prefill=True\n",
    "\n",
    "# API_PrefillType can be \"previous\",  \"midpoint\" or \"interpolate\"\n",
    "API_PrefillType = \"interpolate\"\n",
    "\n",
    "\n",
    "# We can choose to load and chart non-daily data. \n",
    "# Valid Frequencies are: \n",
    "#  w, hm, m, q, hy  y  ( where'hm' is half-month and 'hy' is half-year).\n",
    "# Check the API documentation \"Frequency Parameter\" and \"Frequency Options\" sections for examples of custom frequencies and weekend handling.\n",
    "#      https://www.sarus.com/api-docs#getdatasetvaluesrc\n",
    "# Used in API to request daily or average data\n",
    "DataFreq = \"m\"\n",
    "# Frequency name - appears in chart legends\n",
    "DataFreqDesc = \"Monthly\"\n",
    "\n",
    "     \n",
    "print ( SUCCESS_LABEL+ \" The \"+DataFreqDesc+\" API command was parameters are set. \\n\")\n",
    "\n",
    "\n"
   ]
  },
  {
   "cell_type": "markdown",
   "metadata": {
    "id": "sObP-2EybVCt",
    "tags": []
   },
   "source": [
    "## API - Return market data  for one dataset\n",
    "\n",
    "The full list of the parameters used in the API request to get market data can be <a href=\"https://www.sarus.com/api-docs#getdatasetvaluesrc\">viewed here</a>\n"
   ]
  },
  {
   "cell_type": "code",
   "execution_count": 6,
   "metadata": {
    "colab": {
     "base_uri": "https://localhost:8080/"
    },
    "id": "N19Yl28DT3ky",
    "outputId": "4a9a43d8-92db-4697-c323-53ea2c700ee7",
    "scrolled": true
   },
   "outputs": [
    {
     "name": "stdout",
     "output_type": "stream",
     "text": [
      "\n",
      "\u001b[32m The Monthly API command was run successfully. \n",
      "\u001b[0m\n"
     ]
    }
   ],
   "source": [
    "# initialise the Python class\n",
    "idata = IData()\n",
    "# turn off comments from  Monitor+\n",
    "idata.set_verbose(False)\n",
    "\n",
    "RC_DayResult =  None\n",
    "\n",
    "#Store the API Key in the Python Class\n",
    "idata.set_api_key(API_KEY)\n",
    "\n",
    "# We will return the metadata from the user favorite datasets\n",
    "# Now request historical prices for two datasets in RC ( row x column) format.\n",
    "# If you see error messages below like \"[WARNING] Error 401: Invalid credentials. Check your API key\",  your API key in the 'Global Settings' section may be invalid\n",
    "RC_DayResult = idata.get_dataset_values_rc(\n",
    "    Series=[\n",
    "        # You can change the datasources and symbols in the Global Variable section above\n",
    "        # For HandleWeekend parameters - see HandleWeekends section at the  \"Viewed Here\"  link above. 5a = 5 day adjusted.\n",
    "        {\"Datasource\": API_Datasource1,\"Symbol\": API_DSSymbol1, \"HandleWeekends\":API_WeekType,\"Fill\":True }\n",
    "    ],\n",
    "    # Additional API parameters\n",
    "    StartDate = API_StartDate,\n",
    "    Frequency = DataFreq,\n",
    "    Prefill = API_Prefill,\n",
    "    # For missing valuess are filled\n",
    "    FillOptions = {\"Type\": API_PrefillType},\n",
    "     )\n",
    "    \n",
    "if (RC_DayResult is None):\n",
    "       print (WARNING_LABEL +'\\n The RC_Result API call returned an error. \\n' + RESET)\n",
    "else:\n",
    "    print ( SUCCESS_LABEL+ \" The \"+DataFreqDesc+\" API command was run successfully. \\n\"+RESET)\n"
   ]
  },
  {
   "cell_type": "markdown",
   "metadata": {
    "tags": []
   },
   "source": [
    "# Display the Market Data in a table."
   ]
  },
  {
   "cell_type": "code",
   "execution_count": 7,
   "metadata": {},
   "outputs": [
    {
     "name": "stdout",
     "output_type": "stream",
     "text": [
      "\u001b[32m\n",
      "The latest 30 daily data rows:\n",
      "\u001b[0m\n"
     ]
    },
    {
     "data": {
      "text/html": [
       "<div>\n",
       "<style scoped>\n",
       "    .dataframe tbody tr th:only-of-type {\n",
       "        vertical-align: middle;\n",
       "    }\n",
       "\n",
       "    .dataframe tbody tr th {\n",
       "        vertical-align: top;\n",
       "    }\n",
       "\n",
       "    .dataframe thead th {\n",
       "        text-align: right;\n",
       "    }\n",
       "</style>\n",
       "<table border=\"1\" class=\"dataframe\">\n",
       "  <thead>\n",
       "    <tr style=\"text-align: right;\">\n",
       "      <th></th>\n",
       "      <th>Close</th>\n",
       "    </tr>\n",
       "  </thead>\n",
       "  <tbody>\n",
       "    <tr>\n",
       "      <th>2019-07-31</th>\n",
       "      <td>121.405652</td>\n",
       "    </tr>\n",
       "    <tr>\n",
       "      <th>2019-08-30</th>\n",
       "      <td>118.179091</td>\n",
       "    </tr>\n",
       "    <tr>\n",
       "      <th>2019-09-30</th>\n",
       "      <td>118.241905</td>\n",
       "    </tr>\n",
       "    <tr>\n",
       "      <th>2019-10-31</th>\n",
       "      <td>119.511304</td>\n",
       "    </tr>\n",
       "    <tr>\n",
       "      <th>2019-11-29</th>\n",
       "      <td>120.337619</td>\n",
       "    </tr>\n",
       "    <tr>\n",
       "      <th>2019-12-31</th>\n",
       "      <td>121.262415</td>\n",
       "    </tr>\n",
       "    <tr>\n",
       "      <th>2020-01-31</th>\n",
       "      <td>121.388830</td>\n",
       "    </tr>\n",
       "    <tr>\n",
       "      <th>2020-02-28</th>\n",
       "      <td>120.025500</td>\n",
       "    </tr>\n",
       "    <tr>\n",
       "      <th>2020-03-31</th>\n",
       "      <td>118.897273</td>\n",
       "    </tr>\n",
       "    <tr>\n",
       "      <th>2020-04-30</th>\n",
       "      <td>117.065616</td>\n",
       "    </tr>\n",
       "    <tr>\n",
       "      <th>2020-05-29</th>\n",
       "      <td>116.950629</td>\n",
       "    </tr>\n",
       "    <tr>\n",
       "      <th>2020-06-30</th>\n",
       "      <td>121.120455</td>\n",
       "    </tr>\n",
       "    <tr>\n",
       "      <th>2020-07-31</th>\n",
       "      <td>122.380435</td>\n",
       "    </tr>\n",
       "    <tr>\n",
       "      <th>2020-08-31</th>\n",
       "      <td>125.403810</td>\n",
       "    </tr>\n",
       "    <tr>\n",
       "      <th>2020-09-30</th>\n",
       "      <td>124.501364</td>\n",
       "    </tr>\n",
       "    <tr>\n",
       "      <th>2020-10-30</th>\n",
       "      <td>123.889091</td>\n",
       "    </tr>\n",
       "    <tr>\n",
       "      <th>2020-11-30</th>\n",
       "      <td>123.609524</td>\n",
       "    </tr>\n",
       "    <tr>\n",
       "      <th>2020-12-31</th>\n",
       "      <td>126.282609</td>\n",
       "    </tr>\n",
       "    <tr>\n",
       "      <th>2021-01-29</th>\n",
       "      <td>126.316667</td>\n",
       "    </tr>\n",
       "    <tr>\n",
       "      <th>2021-02-26</th>\n",
       "      <td>127.492500</td>\n",
       "    </tr>\n",
       "    <tr>\n",
       "      <th>2021-03-31</th>\n",
       "      <td>129.380435</td>\n",
       "    </tr>\n",
       "    <tr>\n",
       "      <th>2021-04-30</th>\n",
       "      <td>130.447273</td>\n",
       "    </tr>\n",
       "    <tr>\n",
       "      <th>2021-05-31</th>\n",
       "      <td>132.569048</td>\n",
       "    </tr>\n",
       "    <tr>\n",
       "      <th>2021-06-30</th>\n",
       "      <td>132.631364</td>\n",
       "    </tr>\n",
       "    <tr>\n",
       "      <th>2021-07-30</th>\n",
       "      <td>130.349091</td>\n",
       "    </tr>\n",
       "    <tr>\n",
       "      <th>2021-08-31</th>\n",
       "      <td>129.284091</td>\n",
       "    </tr>\n",
       "    <tr>\n",
       "      <th>2021-09-30</th>\n",
       "      <td>129.634969</td>\n",
       "    </tr>\n",
       "    <tr>\n",
       "      <th>2021-10-29</th>\n",
       "      <td>131.266680</td>\n",
       "    </tr>\n",
       "    <tr>\n",
       "      <th>2021-11-30</th>\n",
       "      <td>130.115699</td>\n",
       "    </tr>\n",
       "    <tr>\n",
       "      <th>2021-12-31</th>\n",
       "      <td>128.848239</td>\n",
       "    </tr>\n",
       "  </tbody>\n",
       "</table>\n",
       "</div>"
      ],
      "text/plain": [
       "                 Close\n",
       "2019-07-31  121.405652\n",
       "2019-08-30  118.179091\n",
       "2019-09-30  118.241905\n",
       "2019-10-31  119.511304\n",
       "2019-11-29  120.337619\n",
       "2019-12-31  121.262415\n",
       "2020-01-31  121.388830\n",
       "2020-02-28  120.025500\n",
       "2020-03-31  118.897273\n",
       "2020-04-30  117.065616\n",
       "2020-05-29  116.950629\n",
       "2020-06-30  121.120455\n",
       "2020-07-31  122.380435\n",
       "2020-08-31  125.403810\n",
       "2020-09-30  124.501364\n",
       "2020-10-30  123.889091\n",
       "2020-11-30  123.609524\n",
       "2020-12-31  126.282609\n",
       "2021-01-29  126.316667\n",
       "2021-02-26  127.492500\n",
       "2021-03-31  129.380435\n",
       "2021-04-30  130.447273\n",
       "2021-05-31  132.569048\n",
       "2021-06-30  132.631364\n",
       "2021-07-30  130.349091\n",
       "2021-08-31  129.284091\n",
       "2021-09-30  129.634969\n",
       "2021-10-29  131.266680\n",
       "2021-11-30  130.115699\n",
       "2021-12-31  128.848239"
      ]
     },
     "metadata": {},
     "output_type": "display_data"
    }
   ],
   "source": [
    "#Access the Display function that helps us to display the report data.\n",
    "from IPython.display import display\n",
    "\n",
    "API_DSName1Day = \"\"\n",
    "\n",
    "# Check we have data from the 'API Initialisation' section above using its RC_Result variable\n",
    "if (RC_DayResult is None):\n",
    "    print (WARNING_LABEL +'\\nThe  API request for market data failed. Please check the \"API Initialisation\" section above.' + RESET)   \n",
    "else:\n",
    "    # Extract the names for the datasets.  We can use them later to check if the extract was successful.\n",
    "    API_DSName1Day = RC_DayResult[\"Columns\"][0]['Name']\n",
    "    \n",
    "    #  Check datasets are loaded OK\n",
    "    if API_DSName1Day > \"\":\n",
    "        columns=pd.DataFrame(RC_DayResult['Columns']).Bate\n",
    "        df=pd.DataFrame(RC_DayResult['Rows']).transpose()\n",
    "        df=df.rename(columns,axis=1)\n",
    "        # show the latest elements in a table - rows defined in global Data_Rows variable\n",
    "        print(SUCCESS_LABEL +\"\\nThe latest \"+str(Data_Rows)+\" daily data rows:\\n\"+RESET)\n",
    "  \n",
    "        display(df.tail(Data_Rows))\n",
    "        \n",
    "        # The methods we use require our data to be a Time-Series. \n",
    "    else:\n",
    "        print(WARNING_LABEL + '\\n No valid dataset was returned from the Monitor+ API. ' + RESET)\n",
    "\n",
    "        \n",
    "       "
   ]
  },
  {
   "cell_type": "code",
   "execution_count": null,
   "metadata": {},
   "outputs": [],
   "source": []
  },
  {
   "cell_type": "code",
   "execution_count": null,
   "metadata": {},
   "outputs": [],
   "source": []
  }
 ],
 "metadata": {
  "colab": {
   "collapsed_sections": [
    "LAyM38lGUpkL",
    "sObP-2EybVCt",
    "Y1DLRL3DDRqS",
    "0HlOzC9ADcnm",
    "Rn28ilWLbMeh",
    "SmlOeZpZdMOr",
    "ImmEw5v7X_fw",
    "hPqT_IYcS0c4"
   ],
   "name": "Don_G.ipynb",
   "provenance": []
  },
  "hide_input": false,
  "kernelspec": {
   "display_name": "Python 3 (ipykernel)",
   "language": "python",
   "name": "python3"
  },
  "language_info": {
   "codemirror_mode": {
    "name": "ipython",
    "version": 3
   },
   "file_extension": ".py",
   "mimetype": "text/x-python",
   "name": "python",
   "nbconvert_exporter": "python",
   "pygments_lexer": "ipython3",
   "version": "3.12.1"
  }
 },
 "nbformat": 4,
 "nbformat_minor": 4
}
