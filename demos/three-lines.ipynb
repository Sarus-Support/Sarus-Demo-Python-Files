{
 "cells": [
  {
   "cell_type": "markdown",
   "metadata": {
    "id": "LAyM38lGUpkL"
   },
   "source": [
    "# Three Lines Demonstration Notebook"
   ]
  },
  {
   "cell_type": "markdown",
   "metadata": {
    "id": "sObP-2EybVCt"
   },
   "source": [
    "This Monitor+ notebook demonstrates how to download historical data using only three API commands. In reality it is one command as the first two commands do not change.\n",
    "\n",
    "The first 2 commands initialize the library and set the API key. With the third command we get the data for two ECB FX datasets in a 'Row X Column' format.\n",
    "\n",
    "The full list of the parameters used in the API request can be https://www.sarus.com/api-docs#getdatasetvaluesrc\n",
    "\n",
    "\n"
   ]
  },
  {
   "cell_type": "markdown",
   "metadata": {
    "id": "sObP-2EybVCt"
   },
   "source": [
    "<b>Disclaimer.</b><br>\n",
    "We offer these reports for informational purposes only and are provided ‘as is’ without warranty of any kind, either express or implied, including, but not limited to, the implied warranties of fitness for a purpose, or the warranty of non-infringement.  Please refer to our <a href=\"https://www.sarus.com/terms-and-conditions\">Terms and Conditions</a> for more information. Any links on this site are provided as a convenience and for informational purposes only; they do not constitute an endorsement or an approval by the us of any of the products, services or opinions of the corporation or organization or individual. We bear no responsibility for the accuracy, legality or content of the external site or for that of subsequent links. Contact any external sites for answers to questions regarding its content.  The market data used in the reports below may be generated sample data and as such not representative on any real or published values. Do not use any of the report values for any purpose other than to demonstrate the functionality of the  Monitor+ service.\n",
    "\n",
    "<b>Notice:</b> The API key  used in this report is for demonstration purposes only and may return <em>simulated market data</em> (not actual market data data) or return a limited selection or range of market data.<br>\n",
    "Do not use any data returned with this demonstration API key except to test the functionality of the Monitor+ API in a testing environment. \n",
    "\n",
    "\n",
    "If you have any questions about this report, please go to the Sarus web site www.sarus.com  and use the <a href=\"https://www.sarus.com/contact-us\"> 'Contact'</a> menu to get in  touch or email us at support@sarus.com\n",
    "\n"
   ]
  },
  {
   "cell_type": "code",
   "execution_count": 98,
   "metadata": {
    "id": "aw52ArsLUbri"
   },
   "outputs": [
    {
     "name": "stdout",
     "output_type": "stream",
     "text": [
      "\u001b[36m[INFO] Verbose settting updated to True\u001b[0m\n"
     ]
    }
   ],
   "source": [
    "#  IData is the Monitor+ API class\n",
    "from monitorplus import IData \n",
    "\n",
    "# Command 1 and 2  are always the same - initialise the Python class and store the API Key in the Python Class\n",
    "# The APIkey can have restricted access to the full data range available\n",
    "idata = IData()\n",
    "idata.set_api_key(\"PD3MV-7KO96-HEZSL-4U8JX\")\n",
    "\n",
    "# Optionally set  verbose ON to see the detailed request and returned data  as we  are not using pandas dataframes.\n",
    "idata.set_verbose(True)\n"
   ]
  },
  {
   "cell_type": "markdown",
   "metadata": {
    "id": "sObP-2EybVCt",
    "tags": []
   },
   "source": [
    "## API - Using command #3, return market data  for two datasets in December 2022.\n",
    "\n",
    "The full list of the parameters used in the API request to get market data can be <a href=\"https://www.sarus.com/api-docs#getdatasetvaluesrc\">viewed here</a>\n"
   ]
  },
  {
   "cell_type": "code",
   "execution_count": 96,
   "metadata": {
    "colab": {
     "base_uri": "https://localhost:8080/"
    },
    "id": "N19Yl28DT3ky",
    "outputId": "4a9a43d8-92db-4697-c323-53ea2c700ee7",
    "scrolled": true
   },
   "outputs": [
    {
     "name": "stdout",
     "output_type": "stream",
     "text": [
      "\u001b[36m[INFO] Retrieving session token using: PD3MV-7KO96-HEZSL-4U8JX\u001b[0m\n",
      "\n",
      " Verbose is set to ON\n",
      "-----------------------------------\n",
      "GET\n",
      "URL: \n",
      "https://api.sarus.com/\n",
      "API: \n",
      "GetSessionToken\n",
      "Payload: \n",
      "{'APIKey': 'PD3MV-7KO96-HEZSL-4U8JX'}\n",
      "\u001b[36m[INFO] API call to: https://api.sarus.com/GetSessionToken?APIKey=PD3MV-7KO96-HEZSL-4U8JX, Request mehtod: GET\u001b[0m\n",
      "\u001b[36m[INFO] Session token retrieved: f2085f0c93b18f8ba198135d697c05e4\u001b[0m\n",
      "\u001b[36m[INFO] Retrieving expiration time for f2085f0c93b18f8ba198135d697c05e4\u001b[0m\n",
      "\n",
      " Verbose is set to ON\n",
      "-----------------------------------\n",
      "GET\n",
      "URL: \n",
      "https://api.sarus.com/\n",
      "API: \n",
      "QuerySessionToken\n",
      "Payload: \n",
      "{'SessionToken': 'f2085f0c93b18f8ba198135d697c05e4'}\n",
      "\u001b[36m[INFO] API call to: https://api.sarus.com/QuerySessionToken?SessionToken=f2085f0c93b18f8ba198135d697c05e4, Request mehtod: GET\u001b[0m\n",
      "\u001b[36m[INFO] Remaining 1799000 ms.\u001b[0m\n",
      "\n",
      " Verbose is set to ON\n",
      "-----------------------------------\n",
      "POST\n",
      "URL: \n",
      "https://api.sarus.com/\n",
      "API: \n",
      "GetValuesRC\n",
      "Payload: \n",
      "{'SessionToken': 'f2085f0c93b18f8ba198135d697c05e4', 'Series': [{'Datasource': 'ECBFX', 'Symbol': 'EURUSD'}, {'Datasource': 'ECBFX', 'Symbol': 'EURGBP'}], 'StartDate': '2023-11-01', 'EndDate': '2024-12-01', 'Periods': 0, 'CommonStart': 'true', 'CommonEnd': 'false', 'CommonUA': 'true', 'DateFormat': 'YYYY-MM-DD', 'DateOrder': 'asc', 'Prefill': 'false', 'Fill': 'false', 'Frequency': 'd', 'Postfill': 'false', 'Rounding': 'auto', 'ReturnMetadata': 'true', 'ReturnAccess': 'false', 'ReturnParameters': 'false'}\n",
      "\u001b[36m[INFO] API call to: https://api.sarus.com/GetValuesRC, Request mehtod: POST\u001b[0m\n",
      "\n",
      "{'Metadata': [{'Datasource': 'ECBFX', 'Symbol': 'EURUSD', 'Name': 'ECB - Euro vs US Dollar', 'Description': 'European Central Bank exchange rate for Euro vs US Dollar (EUR/USD)', 'Frequency': 'Day', 'Currency': None, 'Unit': None, 'Decimals': None, 'Bates': ['Close'], 'BateIndex': [0], 'StartDate': '1999-01-04', 'EndDate': '2024-01-18', 'Values': 6681, 'Corrections': 0, 'Premium': False, 'Favorite': False, 'IsCategoryDS': False, 'Status': 200, 'Details': 'OK'}, {'Datasource': 'ECBFX', 'Symbol': 'EURGBP', 'Name': 'ECB - Euro vs Pound Sterling', 'Description': 'European Central Bank exchange rate for Euro vs Pound Sterling (EUR/GBP)', 'Frequency': 'Day', 'Currency': None, 'Unit': None, 'Decimals': None, 'Bates': ['Close'], 'BateIndex': [0], 'StartDate': '1999-01-04', 'EndDate': '2024-01-18', 'Values': 6681, 'Corrections': 0, 'Premium': False, 'Favorite': False, 'IsCategoryDS': False, 'Status': 200, 'Details': 'OK'}], 'Columns': [{'Datasource': 'ECBFX', 'Symbol': 'EURUSD', 'Name': 'ECB - Euro vs US Dollar', 'Bate': 'Close', 'BateNumber': 0, 'FirstDate': '2023-11-01', 'LastDate': '2023-12-30', 'Values': 52, 'Corrections': 0, 'LeadLag': 0, 'Prefill': False, 'Fill': False, 'HandleWeekends': 'auto', 'Postfill': False, 'Status': 200, 'Details': 'OK'}, {'Datasource': 'ECBFX', 'Symbol': 'EURGBP', 'Name': 'ECB - Euro vs Pound Sterling', 'Bate': 'Close', 'BateNumber': 0, 'FirstDate': '2023-11-01', 'LastDate': '2023-12-30', 'Values': 52, 'Corrections': 0, 'LeadLag': 0, 'Prefill': False, 'Fill': False, 'HandleWeekends': 'auto', 'Postfill': False, 'Status': 200, 'Details': 'OK'}], 'Rows': {'2023-11-01': [1.058487, 0.869137], '2023-11-02': [1.06174, 0.870983], '2023-11-03': [1.073594, 0.867518], '2023-11-04': [1.073594, 0.867551], '2023-11-05': [1.073203, 0.867224], '2023-11-06': [1.071984, 0.868377], '2023-11-07': [1.069633, 0.870178], '2023-11-08': [1.07095, 0.871716], '2023-11-09': [None, None], '2023-11-10': [None, None], '2023-11-11': [None, None], '2023-11-12': [None, None], '2023-11-13': [None, None], '2023-11-14': [None, None], '2023-11-15': [None, None], '2023-11-16': [None, None], '2023-11-17': [1.091643, 0.876118], '2023-11-18': [1.091643, 0.876329], '2023-11-19': [1.090667, 0.875778], '2023-11-20': [1.094535, 0.875026], '2023-11-21': [1.091643, 0.870279], '2023-11-22': [1.088849, 0.871777], '2023-11-23': [1.090453, 0.870089], '2023-11-24': [1.094926, 0.86892], '2023-11-25': [1.094926, 0.86892], '2023-11-26': [1.094002, 0.868293], '2023-11-27': [1.0958, 0.867359], '2023-11-28': [1.100471, 0.865713], '2023-11-29': [1.097315, 0.864334], '2023-11-30': [1.089202, 0.862419], '2023-12-01': [1.089265, 0.857554], '2023-12-02': [1.088672, 0.857289], '2023-12-03': [1.088767, 0.856473], '2023-12-04': [1.083729, 0.857826], '2023-12-05': [1.079329, 0.857041], '2023-12-06': [1.076577, 0.857117], '2023-12-07': [1.079039, 0.857205], '2023-12-08': [1.077349, 0.858309], '2023-12-09': [1.077349, 0.858582], '2023-12-10': [1.076154, 0.85852], '2023-12-11': [1.076542, 0.857584], '2023-12-12': [1.07982, 0.85904], '2023-12-13': [1.088435, 0.862329], '2023-12-14': [1.099336, 0.860835], '2023-12-15': [1.090746, 0.859599], '2023-12-16': [1.090746, 0.859599], '2023-12-17': [1.089497, 0.859736], '2023-12-18': [1.092329, 0.863432], '2023-12-19': [1.098068, 0.862461], '2023-12-20': [1.09445, 0.865847], '2023-12-21': [1.100582, 0.86776], '2023-12-22': [1.102475, 0.868022], '2023-12-23': [1.102475, 0.868159], '2023-12-24': [1.102476, 0.869769], '2023-12-25': [1.101953, 0.867402], '2023-12-26': [1.104246, 0.867684], '2023-12-27': [1.110821, 0.867812], '2023-12-28': [1.106757, 0.869192], '2023-12-29': [1.105456, 0.867705], '2023-12-30': [1.105456, 0.867705]}, 'Corrections': []}\n"
     ]
    }
   ],
   "source": [
    "#  Command three  -  Get two datasets using default patameters except fir selecting a common date range and returning the metadata for the two datasets in the result. \n",
    "RC_DayResult = idata.get_dataset_values_rc(\n",
    "    Series=[\n",
    "         {\"Datasource\": \"ECBFX\",\"Symbol\": \"EURUSD\" },\n",
    "         {\"Datasource\": \"ECBFX\",\"Symbol\": \"EURGBP\" }\n",
    "    ],\n",
    "    StartDate = \"2023-11-01\",\n",
    "    EndDate = \"2024-12-01\",\n",
    "    CommonStart = True,\n",
    "    ReturnMetadata =True\n",
    "    )\n",
    "\n",
    "\n",
    "print(RC_DayResult)\n"
   ]
  },
  {
   "cell_type": "code",
   "execution_count": null,
   "metadata": {},
   "outputs": [],
   "source": []
  },
  {
   "cell_type": "code",
   "execution_count": null,
   "metadata": {},
   "outputs": [],
   "source": []
  }
 ],
 "metadata": {
  "colab": {
   "collapsed_sections": [
    "LAyM38lGUpkL",
    "sObP-2EybVCt",
    "Y1DLRL3DDRqS",
    "0HlOzC9ADcnm",
    "Rn28ilWLbMeh",
    "SmlOeZpZdMOr",
    "ImmEw5v7X_fw",
    "hPqT_IYcS0c4"
   ],
   "name": "Don_G.ipynb",
   "provenance": []
  },
  "hide_input": false,
  "kernelspec": {
   "display_name": "Python 3 (ipykernel)",
   "language": "python",
   "name": "python3"
  },
  "language_info": {
   "codemirror_mode": {
    "name": "ipython",
    "version": 3
   },
   "file_extension": ".py",
   "mimetype": "text/x-python",
   "name": "python",
   "nbconvert_exporter": "python",
   "pygments_lexer": "ipython3",
   "version": "3.12.1"
  }
 },
 "nbformat": 4,
 "nbformat_minor": 4
}
